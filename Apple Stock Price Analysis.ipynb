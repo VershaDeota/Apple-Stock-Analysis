{
 "cells": [
  {
   "cell_type": "markdown",
   "metadata": {},
   "source": [
    "# Apple Stock Analysis"
   ]
  },
  {
   "cell_type": "markdown",
   "metadata": {},
   "source": [
    "## Abstract"
   ]
  },
  {
   "cell_type": "markdown",
   "metadata": {},
   "source": [
    "The goal of this project is to use **Panda Series** for analyzing the Apple stock data from 1982 to till date. "
   ]
  },
  {
   "cell_type": "markdown",
   "metadata": {},
   "source": [
    "#### To enable multiple output"
   ]
  },
  {
   "cell_type": "code",
   "execution_count": 1,
   "metadata": {},
   "outputs": [],
   "source": [
    "from IPython.core.interactiveshell import InteractiveShell\n",
    "InteractiveShell.ast_node_interactivity = \"all\""
   ]
  },
  {
   "cell_type": "markdown",
   "metadata": {},
   "source": [
    "## Apple Stock Data Extraction"
   ]
  },
  {
   "cell_type": "markdown",
   "metadata": {},
   "source": [
    "In order to get the stock information we need to install **pandas-datareader** package. \n",
    "This package allow to obtain stock information."
   ]
  },
  {
   "cell_type": "markdown",
   "metadata": {},
   "source": [
    "#### Importing reqired packages"
   ]
  },
  {
   "cell_type": "code",
   "execution_count": 2,
   "metadata": {},
   "outputs": [],
   "source": [
    "import pandas as pd\n",
    "from pandas_datareader import DataReader  #To obtain stock information\n",
    "import datetime\n",
    "from datetime import timedelta, date"
   ]
  },
  {
   "cell_type": "markdown",
   "metadata": {},
   "source": [
    "#### Function that takes tickers,start/end date as input and that returns a dataframe with the stock information"
   ]
  },
  {
   "cell_type": "code",
   "execution_count": 3,
   "metadata": {},
   "outputs": [],
   "source": [
    "def get(tickers, startdate, enddate):\n",
    "  stock=DataReader(tickers,'yahoo',start=startdate,end=enddate)\n",
    "  return stock"
   ]
  },
  {
   "cell_type": "markdown",
   "metadata": {},
   "source": [
    "#### Extracting stock information for Apple from 1982 to till date"
   ]
  },
  {
   "cell_type": "code",
   "execution_count": 4,
   "metadata": {},
   "outputs": [],
   "source": [
    "aapl_stock_data = get('AAPL','1982-1-1',datetime.date.today())"
   ]
  },
  {
   "cell_type": "markdown",
   "metadata": {},
   "source": [
    "## Plotting graph for the 'Close' series"
   ]
  },
  {
   "cell_type": "code",
   "execution_count": 5,
   "metadata": {},
   "outputs": [],
   "source": [
    "stock_close=aapl_stock_data['Close']"
   ]
  },
  {
   "cell_type": "markdown",
   "metadata": {},
   "source": [
    "#### Using %magic command to activate inline matplotlib graphs to plot the 'Close' series"
   ]
  },
  {
   "cell_type": "code",
   "execution_count": 7,
   "metadata": {},
   "outputs": [
    {
     "name": "stdout",
     "output_type": "stream",
     "text": [
      "Populating the interactive namespace from numpy and matplotlib\n"
     ]
    },
    {
     "data": {
      "text/plain": [
       "<matplotlib.axes._subplots.AxesSubplot at 0x11b66650>"
      ]
     },
     "execution_count": 7,
     "metadata": {},
     "output_type": "execute_result"
    },
    {
     "data": {
      "image/png": "[encoded data removed]",
      "text/plain": [
       "<matplotlib.figure.Figure at 0x7b4f110>"
      ]
     },
     "metadata": {},
     "output_type": "display_data"
    }
   ],
   "source": [
    "%pylab inline\n",
    "stock_close.plot()"
   ]
  },
  {
   "cell_type": "markdown",
   "metadata": {},
   "source": [
    "#### Overview of the Close Series"
   ]
  },
  {
   "cell_type": "code",
   "execution_count": 8,
   "metadata": {},
   "outputs": [
    {
     "data": {
      "text/plain": [
       "count    9093.000000\n",
       "mean       22.799795\n",
       "std        39.759379\n",
       "min         0.196429\n",
       "25%         1.092857\n",
       "50%         1.669643\n",
       "75%        23.587143\n",
       "max       179.259995\n",
       "Name: Close, dtype: float64"
      ]
     },
     "execution_count": 8,
     "metadata": {},
     "output_type": "execute_result"
    }
   ],
   "source": [
    "stock_close.describe()"
   ]
  },
  {
   "cell_type": "markdown",
   "metadata": {},
   "source": [
    "Following can be observed from the close series-\n",
    "* Closing price of the Apple stock has increased from 19.6 cents per stock in 1982 to 179.25 dollars per stock in 2018.\n",
    "* Average closing price is 22.76 dollars in last 36 years."
   ]
  },
  {
   "cell_type": "markdown",
   "metadata": {},
   "source": [
    "## Three approaches to obtain maximum closing price and difference among them"
   ]
  },
  {
   "cell_type": "markdown",
   "metadata": {},
   "source": [
    "#### Approach 1:"
   ]
  },
  {
   "cell_type": "code",
   "execution_count": 9,
   "metadata": {},
   "outputs": [
    {
     "data": {
      "text/plain": [
       "179.259995"
      ]
     },
     "execution_count": 9,
     "metadata": {},
     "output_type": "execute_result"
    }
   ],
   "source": [
    "stock_close.max()"
   ]
  },
  {
   "cell_type": "markdown",
   "metadata": {},
   "source": [
    "#### Approach 2:"
   ]
  },
  {
   "cell_type": "code",
   "execution_count": 10,
   "metadata": {},
   "outputs": [
    {
     "data": {
      "text/plain": [
       "179.259995"
      ]
     },
     "execution_count": 10,
     "metadata": {},
     "output_type": "execute_result"
    }
   ],
   "source": [
    "stock_close[:stock_close.last_valid_index()].sort_values()[-1]"
   ]
  },
  {
   "cell_type": "markdown",
   "metadata": {},
   "source": [
    "#### Approach 3:"
   ]
  },
  {
   "cell_type": "code",
   "execution_count": 11,
   "metadata": {},
   "outputs": [
    {
     "data": {
      "text/plain": [
       "179.259995"
      ]
     },
     "execution_count": 11,
     "metadata": {},
     "output_type": "execute_result"
    }
   ],
   "source": [
    "stock_close.nlargest(1)[-1]"
   ]
  },
  {
   "cell_type": "markdown",
   "metadata": {},
   "source": [
    "#### Difference in these approches:"
   ]
  },
  {
   "cell_type": "markdown",
   "metadata": {},
   "source": [
    "**nlargest()** function uses list underneath, hence it converts the data into list where items are ordered as a heap. heap[0] is always the smallest item. nlargest() function is more appropriate if you are trying to find relatively small number of items. \n",
    "\n",
    "To find single largest item, **max()** function is faster to use.\n",
    "\n",
    "**sort_value()** function by default sort the items in ascending order and includes the nan as well. When used with **last_valid_index()** function it will exclude nan values and then the last item can be considered as largest. It's a lengthy approach and this approach is not very easy to read and understand."
   ]
  },
  {
   "cell_type": "markdown",
   "metadata": {},
   "source": [
    "## Analysis based on Stock Price Surge"
   ]
  },
  {
   "cell_type": "markdown",
   "metadata": {},
   "source": [
    "#### Surge Percent Calculation with respect to previous closing price-\n",
    "\n",
    "Surge percentage for today= (Today price-Previous day price)/Previous day price\n",
    "\n",
    "eg: previous_day_price=80; today_price=100\n",
    "     Surge percent %= (100-80)/80 = 25%\n",
    "     \n",
    "This can also be achieved by using **pct_change()** function with appropriate parameter"
   ]
  },
  {
   "cell_type": "markdown",
   "metadata": {},
   "source": [
    "### Finding five timeframes with highest stock price surge in 5 days (in % compared to the closing cost of the previous trading day)."
   ]
  },
  {
   "cell_type": "markdown",
   "metadata": {},
   "source": [
    "#### Calculating stock price surge in five days timeframe in a sliding window"
   ]
  },
  {
   "cell_type": "code",
   "execution_count": 12,
   "metadata": {},
   "outputs": [
    {
     "data": {
      "text/plain": [
       "Date\n",
       "1982-01-04          NaN\n",
       "1982-01-05          NaN\n",
       "1982-01-06          NaN\n",
       "1982-01-07          NaN\n",
       "1982-01-08    -9.658985\n",
       "1982-01-11   -10.778554\n",
       "1982-01-12   -12.727258\n",
       "1982-01-13    -5.921258\n",
       "1982-01-14    -5.660574\n",
       "1982-01-15     7.382686\n",
       "1982-01-18    13.194205\n",
       "1982-01-19    11.189050\n",
       "1982-01-20     8.000096\n",
       "1982-01-21     3.125079\n",
       "1982-01-22     1.840649\n",
       "Name: Close, dtype: float64"
      ]
     },
     "execution_count": 12,
     "metadata": {},
     "output_type": "execute_result"
    }
   ],
   "source": [
    "five_day_surge=stock_close.pct_change(4)*100\n",
    "five_day_surge.head(15)"
   ]
  },
  {
   "cell_type": "markdown",
   "metadata": {},
   "source": [
    "### Top five days from the five-day timeframe"
   ]
  },
  {
   "cell_type": "code",
   "execution_count": 13,
   "metadata": {},
   "outputs": [
    {
     "data": {
      "text/plain": [
       "Date\n",
       "1997-08-07    52.117274\n",
       "1997-08-06    50.357120\n",
       "1998-01-06    43.601879\n",
       "1987-10-30    37.946400\n",
       "1997-08-08    35.759481\n",
       "Name: Close, dtype: float64"
      ]
     },
     "execution_count": 13,
     "metadata": {},
     "output_type": "execute_result"
    }
   ],
   "source": [
    "five_day_surge.nlargest(5)"
   ]
  },
  {
   "cell_type": "markdown",
   "metadata": {},
   "source": [
    "### Five days of the rolling window timeframe which has highest surge price   "
   ]
  },
  {
   "cell_type": "markdown",
   "metadata": {},
   "source": [
    "#### Function to get the start date for the five-day time frame"
   ]
  },
  {
   "cell_type": "code",
   "execution_count": 14,
   "metadata": {},
   "outputs": [],
   "source": [
    "def get_start_date_fivedayframe(ref,five_day_surge):\n",
    "    start_dt=datetime.date(ref.year,ref.month,ref.day-5)\n",
    "    if start_dt not in five_day_surge:\n",
    "        start_dt=start_dt-datetime.timedelta(days=1)\n",
    "    return start_dt"
   ]
  },
  {
   "cell_type": "markdown",
   "metadata": {},
   "source": [
    "#### To get the date when the surge was highest"
   ]
  },
  {
   "cell_type": "code",
   "execution_count": 15,
   "metadata": {},
   "outputs": [
    {
     "data": {
      "text/plain": [
       "Timestamp('1997-08-07 00:00:00')"
      ]
     },
     "execution_count": 15,
     "metadata": {},
     "output_type": "execute_result"
    }
   ],
   "source": [
    "end_dt=five_day_surge.nlargest(1).index[0]\n",
    "end_dt"
   ]
  },
  {
   "cell_type": "code",
   "execution_count": 16,
   "metadata": {},
   "outputs": [
    {
     "data": {
      "text/plain": [
       "Date\n",
       "1997-08-01    16.729977\n",
       "1997-08-04    19.696887\n",
       "1997-08-05    13.668989\n",
       "1997-08-06    50.357120\n",
       "1997-08-07    52.117274\n",
       "Name: Close, dtype: float64"
      ]
     },
     "execution_count": 16,
     "metadata": {},
     "output_type": "execute_result"
    }
   ],
   "source": [
    "start_dt=get_start_date_fivedayframe(end_dt,five_day_surge)\n",
    "five_dat_timeframe=five_day_surge[start_dt:end_dt]\n",
    "five_dat_timeframe"
   ]
  },
  {
   "cell_type": "markdown",
   "metadata": {},
   "source": [
    "#### What happend during this timeframe?"
   ]
  },
  {
   "cell_type": "markdown",
   "metadata": {},
   "source": [
    "In August 1997, Steve Jobs returned back to Apple as CEO. He addressed the Macworld Expo on 6th August 1997.In his keynote speech he announced that Apple had taken a 150 million dollars investment from its long-time rivals at Microsoft.\n",
    "\n",
    "The fact that Jobs is back to Apple again and they are gaining good investments increased their stock price."
   ]
  },
  {
   "cell_type": "markdown",
   "metadata": {},
   "source": [
    "### Resampling the Close series to represent business quarters with a financial year that ends in September."
   ]
  },
  {
   "cell_type": "code",
   "execution_count": 17,
   "metadata": {},
   "outputs": [
    {
     "data": {
      "text/plain": [
       "Date\n",
       "1982-03-31    0.327765\n",
       "1982-06-30    0.263747\n",
       "1982-09-30    0.270752\n",
       "1982-12-31    0.503418\n",
       "1983-03-31    0.724383\n",
       "1983-06-30    0.932504\n",
       "1983-09-30    0.634173\n",
       "1983-12-31    0.385877\n",
       "1984-03-31    0.469530\n",
       "1984-06-30    0.513676\n",
       "Freq: Q-SEP, Name: Close, dtype: float64"
      ]
     },
     "execution_count": 17,
     "metadata": {},
     "output_type": "execute_result"
    }
   ],
   "source": [
    "stock_by_quarter=stock_close.resample('Q-Sep').mean()\n",
    "stock_by_quarter.head(10)"
   ]
  },
  {
   "cell_type": "markdown",
   "metadata": {},
   "source": [
    "### Identifying series of four quarters with an overall surge in the stock prices that is larger than 100 percent. "
   ]
  },
  {
   "cell_type": "markdown",
   "metadata": {},
   "source": [
    "#### Calculating stock price surge in rolling 4 quarters"
   ]
  },
  {
   "cell_type": "code",
   "execution_count": 18,
   "metadata": {},
   "outputs": [
    {
     "data": {
      "text/plain": [
       "Date\n",
       "1982-03-31           NaN\n",
       "1982-06-30           NaN\n",
       "1982-09-30           NaN\n",
       "1982-12-31     53.591136\n",
       "1983-03-31    174.650733\n",
       "1983-06-30    244.412806\n",
       "1983-09-30     25.973408\n",
       "1983-12-31    -46.730248\n",
       "1984-03-31    -49.648539\n",
       "1984-06-30    -19.000565\n",
       "1984-09-30     24.396280\n",
       "1984-12-31     -3.813244\n",
       "1985-03-31     -7.204118\n",
       "1985-06-30    -28.520807\n",
       "1985-09-30    -36.665822\n",
       "Freq: Q-SEP, Name: Close, dtype: float64"
      ]
     },
     "execution_count": 18,
     "metadata": {},
     "output_type": "execute_result"
    }
   ],
   "source": [
    "stock_quarter_surge=stock_by_quarter.pct_change(3)*100\n",
    "stock_quarter_surge.head(15)"
   ]
  },
  {
   "cell_type": "markdown",
   "metadata": {},
   "source": [
    "#### Series of four quarter when surge was greater than 100% and its visualization"
   ]
  },
  {
   "cell_type": "code",
   "execution_count": 19,
   "metadata": {},
   "outputs": [],
   "source": [
    "Surge_quarter=stock_quarter_surge[stock_quarter_surge>100]"
   ]
  },
  {
   "cell_type": "code",
   "execution_count": 20,
   "metadata": {},
   "outputs": [
    {
     "name": "stdout",
     "output_type": "stream",
     "text": [
      "Populating the interactive namespace from numpy and matplotlib\n"
     ]
    },
    {
     "data": {
      "text/plain": [
       "<matplotlib.axes._subplots.AxesSubplot at 0x14128d50>"
      ]
     },
     "execution_count": 20,
     "metadata": {},
     "output_type": "execute_result"
    },
    {
     "data": {
      "image/png": "[encoded data removed]",
      "text/plain": [
       "<matplotlib.figure.Figure at 0x14128830>"
      ]
     },
     "metadata": {},
     "output_type": "display_data"
    }
   ],
   "source": [
    "%pylab inline\n",
    "Surge_quarter.plot()"
   ]
  },
  {
   "cell_type": "markdown",
   "metadata": {},
   "source": [
    "### Finding the time when largest surge happened"
   ]
  },
  {
   "cell_type": "code",
   "execution_count": 21,
   "metadata": {},
   "outputs": [
    {
     "data": {
      "text/plain": [
       "Date\n",
       "1983-06-30    244.412806\n",
       "Name: Close, dtype: float64"
      ]
     },
     "execution_count": 21,
     "metadata": {},
     "output_type": "execute_result"
    }
   ],
   "source": [
    "Max_Surge_quarter_Date=Surge_quarter.nlargest(1)\n",
    "Max_Surge_quarter_Date"
   ]
  },
  {
   "cell_type": "markdown",
   "metadata": {},
   "source": [
    "#### Why the largest surge happened?"
   ]
  },
  {
   "cell_type": "markdown",
   "metadata": {},
   "source": [
    "During the quarter Q3-'1983-06-30'following things happended resulted in rising the stock price surge-\n",
    "* Apple launched Lisa Computer, which was the first one to have point-and-click base GUI system with mouse and on-screen icons - a major stride in simplifying computers for everyday users\n",
    "* In April 1983, Sculley [former Pepsi president] became CEO of Apple\n",
    "* Steve Wozniak, Co-founder of Apple, also returned to Apple in June 1983\n",
    "* Apple came up with a phone design which can be said a base for iphone\n",
    "\n",
    "Ref:\n",
    "\n",
    "http://www.pophistorydig.com/topics/early-apple-1976-1985/\n",
    "\n",
    "https://www.cultofmac.com/160670/apple-built-the-original-iphone-way-back-in-1983-heres-the-pics/ \n"
   ]
  },
  {
   "cell_type": "markdown",
   "metadata": {},
   "source": [
    "### Visualize the stock price for the quarters with the highest price surge."
   ]
  },
  {
   "cell_type": "markdown",
   "metadata": {},
   "source": [
    "#### To get the highest surge quarter date"
   ]
  },
  {
   "cell_type": "code",
   "execution_count": 22,
   "metadata": {},
   "outputs": [
    {
     "data": {
      "text/plain": [
       "datetime.date(1983, 6, 30)"
      ]
     },
     "execution_count": 22,
     "metadata": {},
     "output_type": "execute_result"
    }
   ],
   "source": [
    "Surge_quarter_Date=pd.Timestamp.date(Max_Surge_quarter_Date.index[0])\n",
    "Surge_quarter_Date"
   ]
  },
  {
   "cell_type": "markdown",
   "metadata": {},
   "source": [
    "#### Function to get the start date of the quarter"
   ]
  },
  {
   "cell_type": "code",
   "execution_count": 23,
   "metadata": {},
   "outputs": [],
   "source": [
    "def quarter_start(ref):\n",
    "    if ref.month < 4:\n",
    "        return datetime.date(ref.year - 1, 12, 31)+timedelta(days=1)\n",
    "    elif ref.month < 7:\n",
    "        return datetime.date(ref.year, 3, 31)+timedelta(days=1)\n",
    "    elif ref.month < 10:\n",
    "        return datetime.date(ref.year, 6, 30)+timedelta(days=1)\n",
    "    return datetime.date(ref.year, 9, 30)"
   ]
  },
  {
   "cell_type": "code",
   "execution_count": 24,
   "metadata": {},
   "outputs": [
    {
     "data": {
      "text/plain": [
       "datetime.date(1983, 4, 1)"
      ]
     },
     "execution_count": 24,
     "metadata": {},
     "output_type": "execute_result"
    }
   ],
   "source": [
    "quarter_start_date=quarter_start(Surge_quarter_Date)\n",
    "quarter_start_date"
   ]
  },
  {
   "cell_type": "markdown",
   "metadata": {},
   "source": [
    "#### All stock close price for the Highest surge quarter"
   ]
  },
  {
   "cell_type": "code",
   "execution_count": 25,
   "metadata": {},
   "outputs": [
    {
     "data": {
      "text/plain": [
       "Date\n",
       "1983-04-04    0.734375\n",
       "1983-04-05    0.720982\n",
       "1983-04-06    0.714286\n",
       "1983-04-07    0.707589\n",
       "1983-04-08    0.703125\n",
       "1983-04-11    0.743304\n",
       "1983-04-12    0.758929\n",
       "1983-04-13    0.785714\n",
       "1983-04-14    0.803571\n",
       "1983-04-15    0.816964\n",
       "Name: Close, dtype: float64"
      ]
     },
     "execution_count": 25,
     "metadata": {},
     "output_type": "execute_result"
    }
   ],
   "source": [
    "Highest_Surge_Q_Price=aapl_stock_data[quarter_start_date:Surge_quarter_Date]['Close']\n",
    "Highest_Surge_Q_Price.head(10)"
   ]
  },
  {
   "cell_type": "markdown",
   "metadata": {},
   "source": [
    "#### Visualization for the stock price for the quarters with the highest price surge"
   ]
  },
  {
   "cell_type": "code",
   "execution_count": 26,
   "metadata": {},
   "outputs": [
    {
     "name": "stdout",
     "output_type": "stream",
     "text": [
      "Populating the interactive namespace from numpy and matplotlib\n"
     ]
    },
    {
     "data": {
      "text/plain": [
       "<matplotlib.axes._subplots.AxesSubplot at 0x14140930>"
      ]
     },
     "execution_count": 26,
     "metadata": {},
     "output_type": "execute_result"
    },
    {
     "data": {
      "image/png": "[encoded data removed]",
      "text/plain": [
       "<matplotlib.figure.Figure at 0x2e54bb0>"
      ]
     },
     "metadata": {},
     "output_type": "display_data"
    }
   ],
   "source": [
    "%pylab inline\n",
    "Highest_Surge_Q_Price.plot()"
   ]
  }
 ],
 "metadata": {
  "kernelspec": {
   "display_name": "Python 3",
   "language": "python",
   "name": "python3"
  },
  "language_info": {
   "codemirror_mode": {
    "name": "ipython",
    "version": 3
   },
   "file_extension": ".py",
   "mimetype": "text/x-python",
   "name": "python",
   "nbconvert_exporter": "python",
   "pygments_lexer": "ipython3",
   "version": "3.6.4"
  }
 },
 "nbformat": 4,
 "nbformat_minor": 2
}
